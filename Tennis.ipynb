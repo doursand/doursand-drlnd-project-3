{
 "cells": [
  {
   "cell_type": "markdown",
   "metadata": {},
   "source": [
    "# Collaboration and Competition\n",
    "\n",
    "---\n",
    "\n",
    "You are welcome to use this coding environment to train your agent for the project.  Follow the instructions below to get started!\n",
    "\n",
    "### 1. Start the Environment\n",
    "\n",
    "Run the next code cell to install a few packages.  This line will take a few minutes to run!"
   ]
  },
  {
   "cell_type": "code",
   "execution_count": 1,
   "metadata": {},
   "outputs": [
    {
     "name": "stdout",
     "output_type": "stream",
     "text": [
      "\u001b[31mtensorflow 1.7.1 has requirement numpy>=1.13.3, but you'll have numpy 1.12.1 which is incompatible.\u001b[0m\r\n",
      "\u001b[31mipython 6.5.0 has requirement prompt-toolkit<2.0.0,>=1.0.15, but you'll have prompt-toolkit 3.0.3 which is incompatible.\u001b[0m\r\n"
     ]
    }
   ],
   "source": [
    "!pip -q install ./python"
   ]
  },
  {
   "cell_type": "markdown",
   "metadata": {},
   "source": [
    "The environment is already saved in the Workspace and can be accessed at the file path provided below. "
   ]
  },
  {
   "cell_type": "code",
   "execution_count": 2,
   "metadata": {},
   "outputs": [
    {
     "name": "stderr",
     "output_type": "stream",
     "text": [
      "INFO:unityagents:\n",
      "'Academy' started successfully!\n",
      "Unity Academy name: Academy\n",
      "        Number of Brains: 1\n",
      "        Number of External Brains : 1\n",
      "        Lesson number : 0\n",
      "        Reset Parameters :\n",
      "\t\t\n",
      "Unity brain name: TennisBrain\n",
      "        Number of Visual Observations (per agent): 0\n",
      "        Vector Observation space type: continuous\n",
      "        Vector Observation space size (per agent): 8\n",
      "        Number of stacked Vector Observation: 3\n",
      "        Vector Action space type: continuous\n",
      "        Vector Action space size (per agent): 2\n",
      "        Vector Action descriptions: , \n"
     ]
    }
   ],
   "source": [
    "from unityagents import UnityEnvironment\n",
    "import numpy as np\n",
    "\n",
    "env = UnityEnvironment(file_name=\"/data/Tennis_Linux_NoVis/Tennis\")"
   ]
  },
  {
   "cell_type": "markdown",
   "metadata": {},
   "source": [
    "Environments contain **_brains_** which are responsible for deciding the actions of their associated agents. Here we check for the first brain available, and set it as the default brain we will be controlling from Python."
   ]
  },
  {
   "cell_type": "code",
   "execution_count": 3,
   "metadata": {},
   "outputs": [],
   "source": [
    "# get the default brain\n",
    "brain_name = env.brain_names[0]\n",
    "brain = env.brains[brain_name]"
   ]
  },
  {
   "cell_type": "markdown",
   "metadata": {},
   "source": [
    "### 2. Examine the State and Action Spaces\n",
    "\n",
    "Run the code cell below to print some information about the environment."
   ]
  },
  {
   "cell_type": "code",
   "execution_count": 4,
   "metadata": {},
   "outputs": [
    {
     "name": "stdout",
     "output_type": "stream",
     "text": [
      "Number of agents: 2\n",
      "Size of each action: 2\n",
      "There are 2 agents. Each observes a state with length: 24\n",
      "The state for the first agent looks like: [ 0.          0.          0.          0.          0.          0.          0.\n",
      "  0.          0.          0.          0.          0.          0.          0.\n",
      "  0.          0.         -6.65278625 -1.5        -0.          0.\n",
      "  6.83172083  6.         -0.          0.        ]\n"
     ]
    }
   ],
   "source": [
    "# reset the environment\n",
    "env_info = env.reset(train_mode=True)[brain_name]\n",
    "\n",
    "# number of agents \n",
    "num_agents = len(env_info.agents)\n",
    "print('Number of agents:', num_agents)\n",
    "\n",
    "# size of each action\n",
    "action_size = brain.vector_action_space_size\n",
    "print('Size of each action:', action_size)\n",
    "\n",
    "# examine the state space \n",
    "states = env_info.vector_observations\n",
    "state_size = states.shape[1]\n",
    "print('There are {} agents. Each observes a state with length: {}'.format(states.shape[0], state_size))\n",
    "print('The state for the first agent looks like:', states[0])"
   ]
  },
  {
   "cell_type": "markdown",
   "metadata": {},
   "source": [
    "### 3. Take Random Actions in the Environment\n",
    "\n",
    "In the next code cell, you will learn how to use the Python API to control the agent and receive feedback from the environment.\n",
    "\n",
    "Note that **in this coding environment, you will not be able to watch the agents while they are training**, and you should set `train_mode=True` to restart the environment."
   ]
  },
  {
   "cell_type": "code",
   "execution_count": 7,
   "metadata": {},
   "outputs": [
    {
     "name": "stdout",
     "output_type": "stream",
     "text": [
      "Total score (averaged over agents) this episode: -0.004999999888241291\n",
      "Total score (averaged over agents) this episode: -0.004999999888241291\n",
      "Total score (averaged over agents) this episode: -0.004999999888241291\n",
      "Total score (averaged over agents) this episode: -0.004999999888241291\n",
      "Total score (averaged over agents) this episode: -0.004999999888241291\n"
     ]
    }
   ],
   "source": [
    "for i in range(5):                                         # play game for 5 episodes\n",
    "    env_info = env.reset(train_mode=False)[brain_name]     # reset the environment    \n",
    "    states = env_info.vector_observations                  # get the current state (for each agent)\n",
    "    scores = np.zeros(num_agents)                          # initialize the score (for each agent)\n",
    "    while True:\n",
    "        actions = np.random.randn(num_agents, action_size) # select an action (for each agent)\n",
    "        actions = np.clip(actions, -1, 1)                  # all actions between -1 and 1\n",
    "        env_info = env.step(actions)[brain_name]           # send all actions to tne environment\n",
    "        next_states = env_info.vector_observations         # get next state (for each agent)\n",
    "        rewards = env_info.rewards                         # get reward (for each agent)\n",
    "        dones = env_info.local_done                        # see if episode finished\n",
    "        scores += env_info.rewards                         # update the score (for each agent)\n",
    "        states = next_states                               # roll over states to next time step\n",
    "        if np.any(dones):                                  # exit loop if episode finished\n",
    "            break\n",
    "    print('Total score (averaged over agents) this episode: {}'.format(np.mean(scores)))"
   ]
  },
  {
   "cell_type": "markdown",
   "metadata": {},
   "source": [
    "When finished, you can close the environment."
   ]
  },
  {
   "cell_type": "code",
   "execution_count": null,
   "metadata": {},
   "outputs": [],
   "source": [
    "env.close()"
   ]
  },
  {
   "cell_type": "markdown",
   "metadata": {},
   "source": [
    "### 4. It's Your Turn!\n",
    "\n",
    "Now it's your turn to train your own agent to solve the environment!  A few **important notes**:\n",
    "- When training the environment, set `train_mode=True`, so that the line for resetting the environment looks like the following:\n",
    "```python\n",
    "env_info = env.reset(train_mode=True)[brain_name]\n",
    "```\n",
    "- To structure your work, you're welcome to work directly in this Jupyter notebook, or you might like to start over with a new file!  You can see the list of files in the workspace by clicking on **_Jupyter_** in the top left corner of the notebook.\n",
    "- In this coding environment, you will not be able to watch the agents while they are training.  However, **_after training the agents_**, you can download the saved model weights to watch the agents on your own machine! "
   ]
  },
  {
   "cell_type": "code",
   "execution_count": 2,
   "metadata": {},
   "outputs": [],
   "source": [
    "import random\n",
    "import torch\n",
    "import numpy as np\n",
    "from collections import deque\n",
    "import matplotlib.pyplot as plt\n",
    "%matplotlib inline\n",
    "from unityagents import UnityEnvironment\n",
    "from agent import Agent\n",
    "import pdb"
   ]
  },
  {
   "cell_type": "code",
   "execution_count": 3,
   "metadata": {},
   "outputs": [
    {
     "name": "stderr",
     "output_type": "stream",
     "text": [
      "INFO:unityagents:\n",
      "'Academy' started successfully!\n",
      "Unity Academy name: Academy\n",
      "        Number of Brains: 1\n",
      "        Number of External Brains : 1\n",
      "        Lesson number : 0\n",
      "        Reset Parameters :\n",
      "\t\t\n",
      "Unity brain name: TennisBrain\n",
      "        Number of Visual Observations (per agent): 0\n",
      "        Vector Observation space type: continuous\n",
      "        Vector Observation space size (per agent): 8\n",
      "        Number of stacked Vector Observation: 3\n",
      "        Vector Action space type: continuous\n",
      "        Vector Action space size (per agent): 2\n",
      "        Vector Action descriptions: , \n"
     ]
    }
   ],
   "source": [
    "# select this option to load version 1 (with a single agent) of the environment\n",
    "env = UnityEnvironment(file_name=\"/data/Tennis_Linux_NoVis/Tennis\")\n",
    "\n",
    "# get the default brain\n",
    "brain_name = env.brain_names[0]\n",
    "brain = env.brains[brain_name]"
   ]
  },
  {
   "cell_type": "code",
   "execution_count": 4,
   "metadata": {},
   "outputs": [],
   "source": [
    "# reset the environment\n",
    "env_info = env.reset(train_mode=True)[brain_name]\n",
    "\n",
    "# get size of states in the environment\n",
    "states = env_info.vector_observations\n",
    "state_size = states.shape[1]\n",
    "agents_nb = len(env_info.agents)\n",
    "# get amount of possible actions in the environment\n",
    "action_size = brain.vector_action_space_size"
   ]
  },
  {
   "cell_type": "code",
   "execution_count": 5,
   "metadata": {},
   "outputs": [],
   "source": [
    "#initialize each agent with double state_size so that they can be trained using the full state of 2x24 = 48\n",
    "agents = [Agent(state_size=state_size*2,action_size=action_size,random_seed=1) for _ in range(agents_nb)]"
   ]
  },
  {
   "cell_type": "code",
   "execution_count": 6,
   "metadata": {},
   "outputs": [],
   "source": [
    "def ddpg_multiple(n_episodes=10000, max_t=1000, print_every=10):\n",
    "\n",
    "    scores_deque = deque(maxlen=100)\n",
    "    \n",
    "    hist = []\n",
    "    \n",
    "    for i_episode in range(1, n_episodes+1):\n",
    "        \n",
    "        #reset the environment and get the current states\n",
    "        env_info = env.reset(train_mode=True)[brain_name]\n",
    "        \n",
    "        #reset the agents\n",
    "        for agent in agents:\n",
    "            agent.reset()\n",
    "        \n",
    "        # get the states of the environment associated to each of the 2 agents\n",
    "        states = env_info.vector_observations\n",
    "        \n",
    "        # reshape states to have a vector of lenghth = 2*24 = 48\n",
    "        states = np.reshape(states,(1,48))\n",
    "        ##\n",
    "        \n",
    "        scores = np.zeros(agents_nb)\n",
    "               \n",
    "    \n",
    "        for t in range(max_t):\n",
    "\n",
    "            \n",
    "            #get actions for each of the two agents, with respect to the global states\n",
    "            action1 = agents[0].act(states, add_noise=True)\n",
    "            action2 = agents[1].act(states, add_noise=True)\n",
    "            #concatenate the two actions into a vector of size 1*4 = 4\n",
    "            actions = np.concatenate((action1, action2)).flatten().reshape((1,4))\n",
    "            \n",
    "            #pass the concatenated actions vector the environment to get next_states,rewards, dones\n",
    "            env_info = env.step(actions)[brain_name]        # send the actions to the environment\n",
    "            \n",
    "            next_states = env_info.vector_observations   # get the next state for each agent           \n",
    "            \n",
    "            #next_states is also reshaped to a vector of size 48\n",
    "            next_states = np.reshape(next_states, (1, 48))\n",
    "            ##\n",
    "            \n",
    "            rewards = np.array(env_info.rewards)                 # get the reward for each agent\n",
    "            dones = np.array(env_info.local_done)                # see if episode has finished\n",
    "            \n",
    "           \n",
    "            #do step for each agent, passing the consolidated states& next_states, but specific action, reward and done params\n",
    "            agents[0].step(states, action1, rewards[0], next_states, dones[0])\n",
    "            agents[1].step(states, action2, rewards[1], next_states, dones[1])\n",
    "      \n",
    "                \n",
    "            # add scores\n",
    "            scores += rewards\n",
    "            \n",
    "            #set states to next states\n",
    "            states = next_states\n",
    "         \n",
    "            #break \n",
    "            if np.any(dones):\n",
    "                break \n",
    "                \n",
    "        #scores\n",
    "        score = np.max(scores)\n",
    "        scores_deque.append(np.max(score))\n",
    "        hist.append(np.mean(score))\n",
    "\n",
    "        \n",
    "        print('\\rEpisode {}\\tAverage Score: {:.2f}\\tRewards: {}'.format(i_episode, np.mean(scores_deque),str(rewards.tolist())), end=\"\")\n",
    "        if i_episode % print_every == 0:\n",
    "            print('\\rEpisode {}\\tAverage Score: {:.2f}'.format(i_episode, np.mean(scores_deque)))\n",
    "        \n",
    "        #environment is solved is average score over last 100 episodes is above 0.5\n",
    "        if np.mean(scores_deque)>=0.5:\n",
    "            print('\\nEnvironment solved in {:d} episodes!\\tAverage Score: {:.2f}'.format(i_episode-100, np.mean(scores_deque)))\n",
    "            torch.save(agents[0].actor_local.state_dict(), 'checkpoint_actor0.pth')\n",
    "            torch.save(agents[0].critic_local.state_dict(), 'checkpoint_critic0.pth')\n",
    "            torch.save(agents[1].actor_local.state_dict(), 'checkpoint_actor1.pth')\n",
    "            torch.save(agents[1].critic_local.state_dict(), 'checkpoint_critic1.pth')\n",
    "            \n",
    "            break \n",
    "    return hist\n"
   ]
  },
  {
   "cell_type": "code",
   "execution_count": 7,
   "metadata": {
    "scrolled": false
   },
   "outputs": [
    {
     "name": "stdout",
     "output_type": "stream",
     "text": [
      "Episode 10\tAverage Score: 0.01\tRewards: [0.0, -0.009999999776482582]\n",
      "Episode 20\tAverage Score: 0.00\tRewards: [-0.009999999776482582, 0.0]\n",
      "Episode 30\tAverage Score: 0.00\tRewards: [0.0, -0.009999999776482582]\n",
      "Episode 40\tAverage Score: 0.00\tRewards: [0.0, -0.009999999776482582]\n",
      "Episode 50\tAverage Score: 0.00\tRewards: [-0.009999999776482582, 0.0]\n",
      "Episode 60\tAverage Score: 0.00\tRewards: [0.0, -0.009999999776482582]\n",
      "Episode 70\tAverage Score: 0.00\tRewards: [-0.009999999776482582, 0.0]\n",
      "Episode 80\tAverage Score: 0.00\tRewards: [-0.009999999776482582, 0.0]\n",
      "Episode 90\tAverage Score: 0.01\tRewards: [-0.009999999776482582, 0.0]\n",
      "Episode 100\tAverage Score: 0.01\tRewards: [0.0, -0.009999999776482582]\n",
      "Episode 110\tAverage Score: 0.01\tRewards: [-0.009999999776482582, 0.0]\n",
      "Episode 120\tAverage Score: 0.01\tRewards: [0.0, -0.009999999776482582]\n",
      "Episode 130\tAverage Score: 0.01\tRewards: [0.0, -0.009999999776482582]\n",
      "Episode 140\tAverage Score: 0.02\tRewards: [-0.009999999776482582, 0.0]\n",
      "Episode 150\tAverage Score: 0.02\tRewards: [0.0, -0.009999999776482582]\n",
      "Episode 160\tAverage Score: 0.02\tRewards: [0.0, -0.009999999776482582]\n",
      "Episode 170\tAverage Score: 0.02\tRewards: [-0.009999999776482582, 0.0]\n",
      "Episode 180\tAverage Score: 0.02\tRewards: [-0.009999999776482582, 0.0]\n",
      "Episode 190\tAverage Score: 0.02\tRewards: [0.0, -0.009999999776482582]\n",
      "Episode 200\tAverage Score: 0.02\tRewards: [-0.009999999776482582, 0.0]\n",
      "Episode 210\tAverage Score: 0.02\tRewards: [-0.009999999776482582, 0.0]999999776482582]\n",
      "Episode 220\tAverage Score: 0.02\tRewards: [0.0, -0.009999999776482582]\n",
      "Episode 230\tAverage Score: 0.03\tRewards: [0.0, -0.009999999776482582]\n",
      "Episode 240\tAverage Score: 0.03\tRewards: [-0.009999999776482582, 0.0]\n",
      "Episode 250\tAverage Score: 0.03\tRewards: [0.0, -0.009999999776482582]\n",
      "Episode 260\tAverage Score: 0.04\tRewards: [0.0, -0.009999999776482582]\n",
      "Episode 270\tAverage Score: 0.04\tRewards: [0.0, -0.009999999776482582]\n",
      "Episode 280\tAverage Score: 0.05\tRewards: [0.0, -0.009999999776482582]\n",
      "Episode 290\tAverage Score: 0.06\tRewards: [0.0, -0.009999999776482582]\n",
      "Episode 300\tAverage Score: 0.07\tRewards: [-0.009999999776482582, 0.0]\n",
      "Episode 310\tAverage Score: 0.07\tRewards: [0.0, -0.009999999776482582]\n",
      "Episode 320\tAverage Score: 0.08\tRewards: [-0.009999999776482582, 0.0]\n",
      "Episode 330\tAverage Score: 0.08\tRewards: [0.0, -0.009999999776482582]\n",
      "Episode 340\tAverage Score: 0.09\tRewards: [0.0, -0.009999999776482582]\n",
      "Episode 350\tAverage Score: 0.09\tRewards: [-0.009999999776482582, 0.0]\n",
      "Episode 360\tAverage Score: 0.09\tRewards: [0.0, -0.009999999776482582]\n",
      "Episode 370\tAverage Score: 0.09\tRewards: [-0.009999999776482582, 0.0]\n",
      "Episode 380\tAverage Score: 0.09\tRewards: [0.0, -0.009999999776482582]\n",
      "Episode 390\tAverage Score: 0.09\tRewards: [0.0, -0.009999999776482582]\n",
      "Episode 400\tAverage Score: 0.09\tRewards: [0.0, -0.009999999776482582]\n",
      "Episode 410\tAverage Score: 0.08\tRewards: [0.0, -0.009999999776482582]\n",
      "Episode 420\tAverage Score: 0.08\tRewards: [0.0, -0.009999999776482582]\n",
      "Episode 430\tAverage Score: 0.08\tRewards: [0.0, -0.009999999776482582]\n",
      "Episode 440\tAverage Score: 0.07\tRewards: [-0.009999999776482582, 0.0]\n",
      "Episode 450\tAverage Score: 0.08\tRewards: [0.0, -0.009999999776482582]\n",
      "Episode 460\tAverage Score: 0.08\tRewards: [0.0, -0.009999999776482582]\n",
      "Episode 470\tAverage Score: 0.08\tRewards: [0.0, -0.009999999776482582]\n",
      "Episode 480\tAverage Score: 0.08\tRewards: [0.0, -0.009999999776482582]\n",
      "Episode 490\tAverage Score: 0.09\tRewards: [0.0, -0.009999999776482582]\n",
      "Episode 500\tAverage Score: 0.09\tRewards: [-0.009999999776482582, 0.0]\n",
      "Episode 510\tAverage Score: 0.09\tRewards: [0.0, -0.009999999776482582]\n",
      "Episode 520\tAverage Score: 0.09\tRewards: [0.0, -0.009999999776482582]\n",
      "Episode 530\tAverage Score: 0.09\tRewards: [0.0, -0.009999999776482582]\n",
      "Episode 540\tAverage Score: 0.10\tRewards: [0.0, -0.009999999776482582]\n",
      "Episode 550\tAverage Score: 0.09\tRewards: [-0.009999999776482582, 0.0]\n",
      "Episode 560\tAverage Score: 0.09\tRewards: [0.0, -0.009999999776482582]\n",
      "Episode 570\tAverage Score: 0.09\tRewards: [-0.009999999776482582, 0.0]\n",
      "Episode 580\tAverage Score: 0.09\tRewards: [0.0, -0.009999999776482582]\n",
      "Episode 590\tAverage Score: 0.09\tRewards: [0.0, -0.009999999776482582]\n",
      "Episode 600\tAverage Score: 0.10\tRewards: [0.0, -0.009999999776482582]\n",
      "Episode 610\tAverage Score: 0.10\tRewards: [0.0, -0.009999999776482582]\n",
      "Episode 620\tAverage Score: 0.11\tRewards: [0.0, -0.009999999776482582]\n",
      "Episode 630\tAverage Score: 0.11\tRewards: [0.0, -0.009999999776482582]\n",
      "Episode 640\tAverage Score: 0.11\tRewards: [-0.019999999552965164, 0.0]\n",
      "Episode 650\tAverage Score: 0.11\tRewards: [0.0, -0.009999999776482582]\n",
      "Episode 660\tAverage Score: 0.11\tRewards: [-0.009999999776482582, 0.0]\n",
      "Episode 670\tAverage Score: 0.12\tRewards: [0.0, -0.009999999776482582]\n",
      "Episode 680\tAverage Score: 0.12\tRewards: [0.0, -0.009999999776482582]\n",
      "Episode 690\tAverage Score: 0.12\tRewards: [0.0, -0.009999999776482582]\n",
      "Episode 700\tAverage Score: 0.13\tRewards: [0.0, -0.009999999776482582]\n",
      "Episode 710\tAverage Score: 0.14\tRewards: [0.0, -0.009999999776482582]\n",
      "Episode 720\tAverage Score: 0.13\tRewards: [0.0, -0.009999999776482582]\n",
      "Episode 730\tAverage Score: 0.13\tRewards: [0.0, -0.009999999776482582]\n",
      "Episode 740\tAverage Score: 0.14\tRewards: [0.0, -0.009999999776482582]\n",
      "Episode 750\tAverage Score: 0.15\tRewards: [-0.009999999776482582, 0.0]\n",
      "Episode 760\tAverage Score: 0.19\tRewards: [0.0, -0.009999999776482582]\n",
      "Episode 770\tAverage Score: 0.18\tRewards: [0.0, -0.009999999776482582]\n",
      "Episode 780\tAverage Score: 0.19\tRewards: [0.0, -0.009999999776482582]\n",
      "Episode 790\tAverage Score: 0.19\tRewards: [0.0, -0.009999999776482582]\n",
      "Episode 800\tAverage Score: 0.18\tRewards: [0.0, -0.009999999776482582]\n",
      "Episode 810\tAverage Score: 0.18\tRewards: [0.0, -0.009999999776482582]\n",
      "Episode 820\tAverage Score: 0.20\tRewards: [0.0, -0.009999999776482582]\n",
      "Episode 830\tAverage Score: 0.20\tRewards: [-0.009999999776482582, 0.0]\n",
      "Episode 840\tAverage Score: 0.22\tRewards: [0.0, -0.009999999776482582]\n",
      "Episode 850\tAverage Score: 0.26\tRewards: [0.0, -0.009999999776482582]\n",
      "Episode 860\tAverage Score: 0.29\tRewards: [0.09000000357627869, 0.0]2]999999776482582]\n",
      "Episode 870\tAverage Score: 0.37\tRewards: [0.0, -0.009999999776482582]\n",
      "Episode 880\tAverage Score: 0.39\tRewards: [-0.009999999776482582, 0.0]\n",
      "Episode 890\tAverage Score: 0.46\tRewards: [-0.009999999776482582, 0.0]\n",
      "Episode 897\tAverage Score: 0.52\tRewards: [0.0, -0.009999999776482582]\n",
      "Environment solved in 797 episodes!\tAverage Score: 0.52\n"
     ]
    },
    {
     "data": {
      "image/png": "[encoded data removed]",
      "text/plain": [
       "<matplotlib.figure.Figure at 0x7f9fd445ab70>"
      ]
     },
     "metadata": {
      "needs_background": "light"
     },
     "output_type": "display_data"
    }
   ],
   "source": [
    "scores = ddpg_multiple()\n",
    "\n",
    "fig = plt.figure()\n",
    "ax = fig.add_subplot(111)\n",
    "plt.plot(np.arange(1, len(scores)+1), scores)\n",
    "plt.ylabel('Score') \n",
    "plt.xlabel('Episode #')\n",
    "plt.show()"
   ]
  },
  {
   "cell_type": "code",
   "execution_count": null,
   "metadata": {},
   "outputs": [],
   "source": []
  }
 ],
 "metadata": {
  "kernelspec": {
   "display_name": "Python 3",
   "language": "python",
   "name": "python3"
  },
  "language_info": {
   "codemirror_mode": {
    "name": "ipython",
    "version": 3
   },
   "file_extension": ".py",
   "mimetype": "text/x-python",
   "name": "python",
   "nbconvert_exporter": "python",
   "pygments_lexer": "ipython3",
   "version": "3.6.3"
  }
 },
 "nbformat": 4,
 "nbformat_minor": 2
}
